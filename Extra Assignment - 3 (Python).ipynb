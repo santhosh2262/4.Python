{
 "cells": [
  {
   "cell_type": "code",
   "execution_count": 1,
   "id": "5a475394",
   "metadata": {},
   "outputs": [
    {
     "name": "stdout",
     "output_type": "stream",
     "text": [
      "correct\n"
     ]
    }
   ],
   "source": [
    "#print 'correct if i==10'\n",
    "i=10\n",
    "if i==10:\n",
    "    print('correct')\n"
   ]
  },
  {
   "cell_type": "code",
   "execution_count": 2,
   "id": "32144580",
   "metadata": {},
   "outputs": [
    {
     "name": "stdout",
     "output_type": "stream",
     "text": [
      "Enter the password:HOPE@123\n",
      "Your password is correct\n"
     ]
    }
   ],
   "source": [
    "#check the password,using if and else\n",
    "password=\"HOPE@123\"\n",
    "user_password=input(\"Enter the password:\")\n",
    "if user_password==password:\n",
    "    print(\"Your password is correct\")\n",
    "else:\n",
    "    print(\"Invalid password\")"
   ]
  },
  {
   "cell_type": "code",
   "execution_count": 4,
   "id": "652ce05c",
   "metadata": {},
   "outputs": [
    {
     "name": "stdout",
     "output_type": "stream",
     "text": [
      "adult\n"
     ]
    }
   ],
   "source": [
    "#Catagory the people by their age like children,adult,citizen.\n",
    "age=20\n",
    "if age<18:\n",
    "    print(\"children\")\n",
    "elif age<30:\n",
    "    print(\"adult\")\n",
    "elif age<60:\n",
    "    print(\"citizen\")\n",
    "else:\n",
    "    print(\"senior citizen\")"
   ]
  },
  {
   "cell_type": "code",
   "execution_count": 5,
   "id": "1b893d98",
   "metadata": {},
   "outputs": [
    {
     "name": "stdout",
     "output_type": "stream",
     "text": [
      "Enter any number:1\n",
      "no is positive\n"
     ]
    }
   ],
   "source": [
    "#find whether given number is positive or negative\n",
    "num=int(input(\"Enter any number:\"))\n",
    "if num>0:\n",
    "    print(\"no is positive\")\n",
    "elif num==o:\n",
    "    print(\"no is zero\")\n",
    "else:\n",
    "    print(\"no is negative\")"
   ]
  },
  {
   "cell_type": "code",
   "execution_count": 8,
   "id": "2f04af73",
   "metadata": {},
   "outputs": [
    {
     "name": "stdout",
     "output_type": "stream",
     "text": [
      "Enter a number to check:22\n",
      "no is not divisible by 5\n"
     ]
    }
   ],
   "source": [
    "#check whether the given number is divisible by 5\n",
    "num=int(input(\"Enter a number to check:\"))\n",
    "if num%5==0:\n",
    "    print(\"no is divisible by 5\")\n",
    "else:\n",
    "    print(\"no is not divisible by 5\")"
   ]
  },
  {
   "cell_type": "code",
   "execution_count": null,
   "id": "73aeea2f",
   "metadata": {},
   "outputs": [],
   "source": []
  }
 ],
 "metadata": {
  "kernelspec": {
   "display_name": "Python 3 (ipykernel)",
   "language": "python",
   "name": "python3"
  },
  "language_info": {
   "codemirror_mode": {
    "name": "ipython",
    "version": 3
   },
   "file_extension": ".py",
   "mimetype": "text/x-python",
   "name": "python",
   "nbconvert_exporter": "python",
   "pygments_lexer": "ipython3",
   "version": "3.10.9"
  }
 },
 "nbformat": 4,
 "nbformat_minor": 5
}
